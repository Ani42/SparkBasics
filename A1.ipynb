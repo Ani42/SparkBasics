{
 "cells": [
  {
   "cell_type": "markdown",
   "metadata": {},
   "source": [
    "## CS431/631 Big Data Infrastructure\n",
    "### Fall 2019 - Assignment 1\n",
    "---"
   ]
  },
  {
   "cell_type": "markdown",
   "metadata": {},
   "source": [
    "**Please edit this (text) cell to provide your name and UW student ID number!**\n",
    "* **Name:** Vyas Anirudh Akundy\n",
    "* **ID:** 20765080"
   ]
  },
  {
   "cell_type": "markdown",
   "metadata": {},
   "source": [
    "---\n",
    "#### Overview\n",
    "For this assignment, you will be using Python to analyze the [pointwise mutual information (PMI)](http://en.wikipedia.org/wiki/Pointwise_mutual_information) of tokens in the text of Shakespeare's plays.    For this assignment, you will need the same text file (`Shakespeare.txt`) that you used for Assignment 0.   You will also need the Python tokenizer module, `simple_tokenize.py`.\n",
    "\n",
    "If two events $x$ and $y$ are independent, their PMI will be zero.   A positive PMI indicates that $x$ and $y$ are more likely to co-occur than they would be if they were independent.   Similarly, a negative PMI indicates that $x$ and $y$ are less likely to co-occur.   The PMI of events $x$ and $y$ is given by\n",
    "\\begin{equation*}\n",
    "PMI(x,y) = \\log\\frac{p(x,y)}{p(x)p(y)}\n",
    "\\end{equation*}\n",
    "where $p(x)$ and $p(y)$ are the probabilities of occurrence of events $x$ and $y$, and $p(x,y)$ is the probability of co-occurrence of $x$ and $y$.\n",
    "\n",
    "For this assignment, the \"events\" that we are interested in are occurrences of tokens on lines of text in the input file.   For example, one event\n",
    "might represent the occurence of the token \"fire\" a line of text, and another might represent the occurrence of the token \"peace\".   In that case, $p(fire)$ represents the probability that \"fire\" will occur on a line of text, and $p(fire,peace)$ represents the probability that *both* \"fire\" and \"peace\" will occur on the *same* line.   For the purposes of these PMI computations, it does not matter how many times a given token occures on a single line.   Either a line contains a particular token (at least once), or it does not.   For example, consider this line of text:\n",
    "\n",
    "> three three three, said thrice\n",
    "\n",
    "For this line, the following token-pair events have occurred:\n",
    "- (three, said)\n",
    "- (three, thrice)\n",
    "- (said, three)\n",
    "- (said, thrice)\n",
    "- (thrice, three)\n",
    "- (thrice, said)\n",
    "\n",
    "Note that we are not interested in \"reflexive\" pairs, such as (thrice,thrice).\n",
    "\n",
    "In addition to the probabilities of events, we will also be interested in the absolute *number* of occurences of particular events, e.g., the number of lines in which \"fire\" occurs.   We will use $n(x)$ to represent the these numbers.\n",
    "\n",
    "Your main task for this assignment is to write Python code to analyze the PMI of tokens from Shakespeare's plays.    Based this analysis, we want to be able to answer two types of queries:\n",
    "\n",
    "* Two-Token Queries: Given a pair of tokens, $x$ and $y$, report the number of lines on which that pair co-occurs ($n(x,y)$) as well as $PMI(x,y)$.\n",
    "* One-Token Queries: Given a single token, $x$, report the number of lines on which that token occurs ($n(x)$).   In addition, report the five tokens that have the largest PMI with respect to $x$ (and their PMIs).   That is, report the five $y$'s for which $PMI(x,y)$ is largest.\n",
    "\n",
    "To avoid reporting spurious results for the one-token queries, we are only interested in token pairs that co-occur a sufficient number of times.   Therefore, we will use a *threshold* parameter for one-token queries.   A one-token query should only report pairs of tokens that co-occur at least *threshold* times in the input.   For example, given the threshold 12, a one-token query for \"fire\" the should report the five tokens that have the largest PMI (with respect to \"fire\") among all tokens that co-occur with \"fire\" on at least 12 lines.   If there are fewer than five such tokens, report fewer than five.\n",
    "\n"
   ]
  },
  {
   "cell_type": "markdown",
   "metadata": {},
   "source": [
    "---\n",
    "#### Question 1  (2/10 marks):\n",
    "\n",
    "Before writing code to handle the PMI queries, start writing some code to answer some simpler questions that give an\n",
    "idea of how big the PMI analysis problem will be.   The box below contains some starter code that reads in the 'Shakespeare.txt' file and tokenizes it one line at time.   (This is the same code you started with for Assignment 0.)  Extend this code to determine (a) the number of *distinct* tokens that exist in 'Shakespeare.txt', and (b) the number of \n",
    "distinct token pairs that exist in 'Shakespeare.txt'.  For the purposes of this question, consider the token pair $x,y$ to be distinct from the pair $y,x$, i.e., count them both.   Ignore token pairs of the form $x,x$."
   ]
  },
  {
   "cell_type": "code",
   "execution_count": 7,
   "metadata": {
    "scrolled": true
   },
   "outputs": [
    {
     "name": "stdout",
     "output_type": "stream",
     "text": [
      "Number of distinct tokens: 25975\n",
      "Number of distinct token pairs: 1969760\n"
     ]
    }
   ],
   "source": [
    "# this imports the SimpleTokenize function from the simple_tokenize.py file that you uploaded\n",
    "from simple_tokenize import simple_tokenize\n",
    "from itertools import permutations, chain\n",
    "# Now, let's tokenize Shakespeare's plays\n",
    "all_tokens = []#list of all tokens\n",
    "all_tokenpairs_list = []#list of all token-pairs\n",
    "with open('Shakespeare.txt') as f:\n",
    "\n",
    "    for line in f:\n",
    "        # tokenize, one line at a time\n",
    "        t = simple_tokenize(line)\n",
    "        all_tokenpairs_list.append(list(permutations(list(set(t)),2)))#append all possible token-pairs\n",
    "        for token in t:\n",
    "            all_tokens.append(token)#append all tokens\n",
    "    all_tokenpairs_list = list(chain.from_iterable(all_tokenpairs_list))\n",
    "    print(\"Number of distinct tokens: \" + str(len(set(all_tokens))))#distinct tokens\n",
    "    print(\"Number of distinct token pairs: \" + str(len(set(all_tokenpairs_list))))#distinct token-pairs\n",
    "# extend this code to answer Question 1.\n",
    "# when your code is executed, it should print the number of distinct tokens and the number of distinct token pairs"
   ]
  },
  {
   "cell_type": "markdown",
   "metadata": {},
   "source": [
    "---\n",
    "\n",
    "#### Question 2 (6/10 marks):\n",
    "Next, write Python code to answer the one-token and two-token queries described above, for 'Shakespeare.txt'.   The code cell below contains some starter code that implements a simple text-based query interface.  It allows a user to ask a series of one-token or two-token queries.   Try running the starter code to get a sense of how the interface behaves.    \n",
    "\n",
    "Your task is to write code to read and tokenize 'Shakespeare.txt', record information that will allow both types of PMI queries to be answered, and then answer queries that are posed through the query interface.  Make sure that your code is well commented, so that it will be clear to the markers.\n",
    "\n",
    "If you cannot get answers to both types of queries working, try to get at least one type working, for partial credit.\n"
   ]
  },
  {
   "cell_type": "code",
   "execution_count": 9,
   "metadata": {},
   "outputs": [
    {
     "name": "stdout",
     "output_type": "stream",
     "text": [
      "Input 1 or 2 space-separated tokens (return to quit): the\n",
      "Input a positive integer frequency threshold: 500\n",
      "  n(the) = 24300\n",
      "  high PMI tokens with respect to the (threshold: 500):\n",
      "    n(the,duke) = 501,  PMI(the,duke) = 0.3818573318248373\n",
      "    n(the,of) = 7266,  PMI(the,of) = 0.34294075191889295\n",
      "    n(the,king) = 1117,  PMI(the,king) = 0.30172774181582845\n",
      "    n(the,from) = 754,  PMI(the,from) = 0.16561487229059674\n",
      "    n(the,upon) = 500,  PMI(the,upon) = 0.1640585553738594\n",
      "Input 1 or 2 space-separated tokens (return to quit): the spiderman\n",
      "'spiderman' is not in the document, please re-enter\n",
      "Input 1 or 2 space-separated tokens (return to quit): bye bye\n",
      "The pair '('bye', 'bye')' do no co-occur but exist in the document, please re-enter\n",
      "Input 1 or 2 space-separated tokens (return to quit): at time\n",
      "  n(at,time) = 65\n",
      "  PMI(at,time) = 0.4869482942671367\n",
      "Input 1 or 2 space-separated tokens (return to quit): william shakspear\n",
      "'shakspear' is not in the document, please re-enter\n",
      "Input 1 or 2 space-separated tokens (return to quit): william shakespeare\n",
      "  n(william,shakespeare) = 38\n",
      "  PMI(william,shakespeare) = 3.005201791887161\n",
      "Input 1 or 2 space-separated tokens (return to quit): a\n",
      "Input a positive integer frequency threshold: 1\n",
      "  n(a) = 13280\n",
      "  high PMI tokens with respect to a (threshold: 1):\n",
      "    n(a,younker) = 3,  PMI(a,younker) = 0.9647890871716127\n",
      "    n(a,you'r) = 1,  PMI(a,you'r) = 0.9647890871716127\n",
      "    n(a,yelping) = 1,  PMI(a,yelping) = 0.9647890871716127\n",
      "    n(a,yeast) = 1,  PMI(a,yeast) = 0.9647890871716127\n",
      "    n(a,year's) = 4,  PMI(a,year's) = 0.9647890871716127\n",
      "Input 1 or 2 space-separated tokens (return to quit): crazy\n",
      "Input a positive integer frequency threshold: 20\n",
      "Threshold is too high for 'crazy', please re-enter\n",
      "Input 1 or 2 space-separated tokens (return to quit): crazy\n",
      "Input a positive integer frequency threshold: 1\n",
      "  n(crazy) = 1\n",
      "  high PMI tokens with respect to crazy (threshold: 1):\n",
      "    n(crazy,fitter) = 1,  PMI(crazy,fitter) = 4.133744652764286\n",
      "    n(crazy,sickness) = 1,  PMI(crazy,sickness) = 3.355593402380643\n",
      "    n(crazy,age) = 1,  PMI(crazy,age) = 2.795731090847135\n",
      "    n(crazy,for) = 1,  PMI(crazy,for) = 1.2231202478750853\n",
      "    n(crazy,and) = 1,  PMI(crazy,and) = 0.6969814438519014\n",
      "Input 1 or 2 space-separated tokens (return to quit): \n"
     ]
    }
   ],
   "source": [
    "# this imports the SimpleTokenize function from the simple_tokenize.py file that you uploaded\n",
    "from simple_tokenize import simple_tokenize\n",
    "# the log function for computing PMI\n",
    "# for the sake of consistency across solutions, please use log base 10\n",
    "from math import log\n",
    "from itertools import permutations, chain\n",
    "from collections import Counter\n",
    "\n",
    "#If this cell takes more than 15 seconds, please stop it and run again. It will take 15 seconds to run\n",
    "total_lines = 0\n",
    "one_count = {}#stores frequency of each token\n",
    "two_count = {}#stores frequency of all token-pairs\n",
    "prob_OneCount = {}#stores probabilities of single token\n",
    "prob_TwoCount = {}#stores probabilities of all token-pairs\n",
    "PMI = {}#stores the PMI values of all token-pairs\n",
    "with open('Shakespeare.txt') as f:\n",
    "    lines_SingleList = []\n",
    "    lines_PairsList= []\n",
    "    \n",
    "    for line in f:\n",
    "        # tokenize, one line at a time\n",
    "        total_lines = total_lines + 1\n",
    "        t = simple_tokenize(line)\n",
    "        single = list(set(t))#get distinct tokens\n",
    "        lines_SingleList.append(single)\n",
    "        pairs = list(permutations(single,2))#get distinct token pairs\n",
    "        lines_PairsList.append(pairs)\n",
    "    #count the frequency for each and calculate probabilities and PMI values\n",
    "    one_count = dict(Counter(chain.from_iterable(lines_SingleList)))\n",
    "    two_count = dict(Counter(chain.from_iterable(lines_PairsList)))\n",
    "    prob_OneCount = {k:v/total_lines for (k,v) in one_count.items()}\n",
    "    prob_TwoCount = {k:v/total_lines for (k,v) in two_count.items()}\n",
    "    PMI = {k:log(v/(prob_OneCount[k[0]]*prob_OneCount[k[1]]),10) for (k,v) in prob_TwoCount.items()}\n",
    "    \n",
    "###################################################################################################################\n",
    "#  the user interface below defines the types of PMI queries that users can ask\n",
    "#  you will need to modify it - where indicated - to access the results of your PMI analysis (above)\n",
    "#  so that the queries can be answered\n",
    "###################################################################################################################\n",
    "\n",
    "while True:\n",
    "    q = input(\"Input 1 or 2 space-separated tokens (return to quit): \")\n",
    "    if len(q) == 0:\n",
    "        break\n",
    "    q_tokens = simple_tokenize(q)\n",
    "    if len(q_tokens) == 1:\n",
    "        if q_tokens[0] not in all_tokens:#check if token exists in document\n",
    "            print(\"\\'\"+str(q_tokens[0]) +\"\\'\"+\" is not in the document, please re-enter\")\n",
    "            continue\n",
    "        threshold = 0\n",
    "        while threshold <= 0:#enter correct threshold number\n",
    "            try:\n",
    "                threshold = int(input(\"Input a positive integer frequency threshold: \"))\n",
    "            except ValueError:\n",
    "                print(\"Threshold must be a positive integer!\")\n",
    "                continue\n",
    "        \n",
    "        #temporary dictionaries to store count and PMI values of top 5 co-occuring tokens\n",
    "        temp_count = {}\n",
    "        temp_pmi = {}\n",
    "        for k,v in two_count.items():\n",
    "            if q_tokens[0]==k[0]:#check if token is the first value in tuple\n",
    "                if v>=threshold:\n",
    "                    temp_count[k] = v\n",
    "                    temp_pmi[k] = PMI[k]\n",
    "        if len(temp_pmi)>=5:\n",
    "            temp_pmi = dict(sorted(temp_pmi.items(), key = lambda kv:(kv[1], kv[0]), reverse = True)[0:5])\n",
    "        elif len(temp_pmi)==0:#restart if threshold is too high\n",
    "            print(\"Threshold is too high for \" + \"\\'\"+str(q_tokens[0]) +\"\\'\" + \", please re-enter\")\n",
    "            continue\n",
    "        else:#if there are fewer than 5 then print fewer than 5\n",
    "            temp_pmi = dict(sorted(temp_pmi.items(), key = lambda kv:(kv[1], kv[0]), reverse = True))\n",
    "        print(\"  n({0}) = {1}\".format(q_tokens[0],one_count[q_tokens[0]]))\n",
    "        print(\"  high PMI tokens with respect to {0} (threshold: {1}):\".format(q_tokens[0],threshold))\n",
    "        for k,v in temp_pmi.items():\n",
    "            print(\"    n({0},{1}) = {2},  PMI({0},{1}) = {3}\".format(q_tokens[0],k[1],temp_count[k],v))    \n",
    "            \n",
    "\n",
    "    elif len(q_tokens) == 2:\n",
    "        if q_tokens[0] in all_tokens:#check if tokens exist and prompt if doesnt exist\n",
    "            if q_tokens[1] in all_tokens:\n",
    "                if (q_tokens[0],q_tokens[1]) in all_tokenpairs_list:#print the count and PMI values\n",
    "                    print(\"  n({0},{1}) = {2}\".format(q_tokens[0],q_tokens[1],two_count[(q_tokens[0],q_tokens[1])]))\n",
    "                    print(\"  PMI({0},{1}) = {2}\".format(q_tokens[0],q_tokens[1],PMI[(q_tokens[0],q_tokens[1])]))\n",
    "                else:#restart if pair doesnt exist\n",
    "                    print(\"The pair \"\"\\'\"+str((q_tokens[0],q_tokens[1])) +\"\\'\"+\" do no co-occur but exist in the document, please re-enter\")\n",
    "                    continue\n",
    "            else:#one of the tokens doesnt exist\n",
    "                print(\"\\'\"+str(q_tokens[1]) +\"\\'\" + \" is not in the document, please re-enter\")\n",
    "                continue\n",
    "        else:#one of the tokens doesnt exist\n",
    "            print(\"\\'\"+str(q_tokens[0]) +\"\\'\" + \" is not in the document, please re-enter\")\n",
    "            continue\n",
    "                \n",
    "    else:\n",
    "        print(\"Input must consist of 1 or 2 space-separated tokens!\")\n"
   ]
  },
  {
   "cell_type": "markdown",
   "metadata": {},
   "source": [
    "---\n",
    "\n",
    "#### Question 3 (2/10 marks):\n",
    "\n",
    "Suppose that you try to run your PMI analysis on larger files:  say, 10 times, or 100 times, or 1000 times larger than 'Shakespeare.txt'.    As the input file grows larger, what will happen to the execution of your program?   Will it get slower?   How much slower?   Will it eventually fail to run?   If so, why?\n",
    "\n",
    "In the cell below, briefly (one or two paragraphs), discuss what will happen if the input to your analysis grows.  We're not looking for an exact or empirical analysis of the behaviour of your program as a function of input size.  Rather, we are looking for a discussion of trends and limits."
   ]
  },
  {
   "cell_type": "markdown",
   "metadata": {},
   "source": [
    "#### Answer to Question 3:\n",
    "\n",
    " - As the input file grows, the program will take much more time to run(which increases linearly with the number of lines in the file), but it may not fail to run for smaller inputs. If the input is really huge(in petabytes) then the program may fail as the system may not have enough memory to run the program.\n",
    " - The data structures used here hold all the words in the file. If the text contains billions and billions of words, it may exceed the capacity and we may need more machines to share the load\n"
   ]
  },
  {
   "cell_type": "markdown",
   "metadata": {},
   "source": [
    "---\n",
    "Don't forget to save your workbook!   (It's a good idea to do this regularly, while you are working.)   When you are finished and you are ready to submit your assignment, download your notebook file (.ipynb) from the hub to your machine, and then follow the submission instructions in the assignment."
   ]
  }
 ],
 "metadata": {
  "kernelspec": {
   "display_name": "Python 3",
   "language": "python",
   "name": "python3"
  },
  "language_info": {
   "codemirror_mode": {
    "name": "ipython",
    "version": 3
   },
   "file_extension": ".py",
   "mimetype": "text/x-python",
   "name": "python",
   "nbconvert_exporter": "python",
   "pygments_lexer": "ipython3",
   "version": "3.6.8"
  }
 },
 "nbformat": 4,
 "nbformat_minor": 2
}
