{
 "cells": [
  {
   "cell_type": "markdown",
   "metadata": {},
   "source": [
    "## CS431/631 Data Intensive Distributed Analytics\n",
    "### Fall 2019 - Assignment 3\n",
    "---"
   ]
  },
  {
   "cell_type": "markdown",
   "metadata": {},
   "source": [
    "**Please edit this (text) cell to provide your name and UW student ID number!**\n",
    "* **Name:** Vyas Anirudh Akundy\n",
    "* **ID:** 20765080"
   ]
  },
  {
   "cell_type": "markdown",
   "metadata": {},
   "source": [
    "---\n",
    "#### Overview\n",
    "For this assignment, you will be using Python and Spark to perform some graph analysis, using a graph of the Gnutella server network.   In this graph, each node represents a server, and each (directed) edge represents a connection between servers in Gnutella's peer-to-peer network.  The input file for this assignment, `p2p-Gnutella08-adj.txt`, represents the graph as an adjacency list.   Each server (node) is identified by a unique number, and each line in the file gives the adjacency list for a single server.\n",
    "For example, this line:\n",
    "> 91\t243\t1923\t2194\n",
    "\n",
    "gives the adjacency list for server `91`.   It indicates that there are edges from server `91` to servers `243`, `1923`, and `2194`.    According to the Stanford Network Analysis Project, which collected these data, [the graph includes 6301 servers and 20777 edges](http://snap.stanford.edu/data/p2p-Gnutella08.html).\n",
    "\n",
    "As you know from the previous assignment, you must tell the Python interpreter where to find Spark before performing any Spark operations in your program.   So, start by doing that:"
   ]
  },
  {
   "cell_type": "code",
   "execution_count": 512,
   "metadata": {},
   "outputs": [],
   "source": [
    "import findspark\n",
    "findspark.init(\"/u/cs451/packages/spark\")\n",
    "\n",
    "from pyspark import SparkContext, SparkConf"
   ]
  },
  {
   "cell_type": "markdown",
   "metadata": {},
   "source": [
    "and then create a `SparkContext`:"
   ]
  },
  {
   "cell_type": "code",
   "execution_count": 513,
   "metadata": {},
   "outputs": [
    {
     "ename": "ValueError",
     "evalue": "Cannot run multiple SparkContexts at once; existing SparkContext(app=YourTest, master=local[2]) created by __init__ at <ipython-input-2-b98f4ae1a970>:2 ",
     "output_type": "error",
     "traceback": [
      "\u001b[0;31m---------------------------------------------------------------------------\u001b[0m",
      "\u001b[0;31mValueError\u001b[0m                                Traceback (most recent call last)",
      "\u001b[0;32m<ipython-input-513-94368cc2a1d5>\u001b[0m in \u001b[0;36m<module>\u001b[0;34m\u001b[0m\n\u001b[1;32m      1\u001b[0m \u001b[0;32mimport\u001b[0m \u001b[0mrandom\u001b[0m\u001b[0;34m\u001b[0m\u001b[0;34m\u001b[0m\u001b[0m\n\u001b[0;32m----> 2\u001b[0;31m \u001b[0msc\u001b[0m \u001b[0;34m=\u001b[0m \u001b[0mSparkContext\u001b[0m\u001b[0;34m(\u001b[0m\u001b[0mappName\u001b[0m\u001b[0;34m=\u001b[0m\u001b[0;34m\"Assignment3\"\u001b[0m\u001b[0;34m,\u001b[0m \u001b[0mmaster\u001b[0m\u001b[0;34m=\u001b[0m\u001b[0;34m\"local[2]\"\u001b[0m\u001b[0;34m,\u001b[0m \u001b[0mconf\u001b[0m\u001b[0;34m=\u001b[0m\u001b[0mSparkConf\u001b[0m\u001b[0;34m(\u001b[0m\u001b[0;34m)\u001b[0m\u001b[0;34m.\u001b[0m\u001b[0mset\u001b[0m\u001b[0;34m(\u001b[0m\u001b[0;34m'spark.ui.port'\u001b[0m\u001b[0;34m,\u001b[0m \u001b[0mrandom\u001b[0m\u001b[0;34m.\u001b[0m\u001b[0mrandrange\u001b[0m\u001b[0;34m(\u001b[0m\u001b[0;36m4000\u001b[0m\u001b[0;34m,\u001b[0m\u001b[0;36m5000\u001b[0m\u001b[0;34m)\u001b[0m\u001b[0;34m)\u001b[0m\u001b[0;34m)\u001b[0m\u001b[0;34m\u001b[0m\u001b[0;34m\u001b[0m\u001b[0m\n\u001b[0m",
      "\u001b[0;32m/u/cs451/packages/spark/python/pyspark/context.py\u001b[0m in \u001b[0;36m__init__\u001b[0;34m(self, master, appName, sparkHome, pyFiles, environment, batchSize, serializer, conf, gateway, jsc, profiler_cls)\u001b[0m\n\u001b[1;32m    113\u001b[0m         \"\"\"\n\u001b[1;32m    114\u001b[0m         \u001b[0mself\u001b[0m\u001b[0;34m.\u001b[0m\u001b[0m_callsite\u001b[0m \u001b[0;34m=\u001b[0m \u001b[0mfirst_spark_call\u001b[0m\u001b[0;34m(\u001b[0m\u001b[0;34m)\u001b[0m \u001b[0;32mor\u001b[0m \u001b[0mCallSite\u001b[0m\u001b[0;34m(\u001b[0m\u001b[0;32mNone\u001b[0m\u001b[0;34m,\u001b[0m \u001b[0;32mNone\u001b[0m\u001b[0;34m,\u001b[0m \u001b[0;32mNone\u001b[0m\u001b[0;34m)\u001b[0m\u001b[0;34m\u001b[0m\u001b[0;34m\u001b[0m\u001b[0m\n\u001b[0;32m--> 115\u001b[0;31m         \u001b[0mSparkContext\u001b[0m\u001b[0;34m.\u001b[0m\u001b[0m_ensure_initialized\u001b[0m\u001b[0;34m(\u001b[0m\u001b[0mself\u001b[0m\u001b[0;34m,\u001b[0m \u001b[0mgateway\u001b[0m\u001b[0;34m=\u001b[0m\u001b[0mgateway\u001b[0m\u001b[0;34m,\u001b[0m \u001b[0mconf\u001b[0m\u001b[0;34m=\u001b[0m\u001b[0mconf\u001b[0m\u001b[0;34m)\u001b[0m\u001b[0;34m\u001b[0m\u001b[0;34m\u001b[0m\u001b[0m\n\u001b[0m\u001b[1;32m    116\u001b[0m         \u001b[0;32mtry\u001b[0m\u001b[0;34m:\u001b[0m\u001b[0;34m\u001b[0m\u001b[0;34m\u001b[0m\u001b[0m\n\u001b[1;32m    117\u001b[0m             self._do_init(master, appName, sparkHome, pyFiles, environment, batchSize, serializer,\n",
      "\u001b[0;32m/u/cs451/packages/spark/python/pyspark/context.py\u001b[0m in \u001b[0;36m_ensure_initialized\u001b[0;34m(cls, instance, gateway, conf)\u001b[0m\n\u001b[1;32m    306\u001b[0m                         \u001b[0;34m\" created by %s at %s:%s \"\u001b[0m\u001b[0;34m\u001b[0m\u001b[0;34m\u001b[0m\u001b[0m\n\u001b[1;32m    307\u001b[0m                         % (currentAppName, currentMaster,\n\u001b[0;32m--> 308\u001b[0;31m                             callsite.function, callsite.file, callsite.linenum))\n\u001b[0m\u001b[1;32m    309\u001b[0m                 \u001b[0;32melse\u001b[0m\u001b[0;34m:\u001b[0m\u001b[0;34m\u001b[0m\u001b[0;34m\u001b[0m\u001b[0m\n\u001b[1;32m    310\u001b[0m                     \u001b[0mSparkContext\u001b[0m\u001b[0;34m.\u001b[0m\u001b[0m_active_spark_context\u001b[0m \u001b[0;34m=\u001b[0m \u001b[0minstance\u001b[0m\u001b[0;34m\u001b[0m\u001b[0;34m\u001b[0m\u001b[0m\n",
      "\u001b[0;31mValueError\u001b[0m: Cannot run multiple SparkContexts at once; existing SparkContext(app=YourTest, master=local[2]) created by __init__ at <ipython-input-2-b98f4ae1a970>:2 "
     ]
    }
   ],
   "source": [
    "import random\n",
    "sc = SparkContext(appName=\"Assignment3\", master=\"local[2]\", conf=SparkConf().set('spark.ui.port', random.randrange(4000,5000)))"
   ]
  },
  {
   "cell_type": "markdown",
   "metadata": {},
   "source": [
    "---\n",
    "### Important\n",
    "\n",
    "###### The questions that follow ask you to implement functions whose prototypes are given to you. Do **NOT** change the prototypes of the functions. Do **NOT** write code outside of functions. All necessary code should be included in the function body (except for import statements). You may declare functions inside of the function body. When marking, we will execute your code by calling the functions from an external program, which is why your code cannot rely on statements running outside functions. Please remove any call to the functions that you may have introduced for test purposes before submitting your notebook."
   ]
  },
  {
   "cell_type": "markdown",
   "metadata": {},
   "source": [
    "---\n",
    "#### Question 1  (6/24 marks):\n",
    "\n",
    "To get warmed up, you should first write Spark code to confirm or determine some basic properties of the Gnutella graph.  Write code in the provided functions that will return answers to the following questions, as specified in each function's documentation:\n",
    "- How many nodes and edges are there in the graph?  (This should confirm the numbers given above.)\n",
    "- How many nodes of each outdegree are there? That is, how many nodes have no outgoing edges, how many have one outgoing edge, how many have two outgoing edges, and so on?\n",
    "- How many nodes of each indegree are there?\n",
    "\n",
    "You should use Spark to answer these questions.   Do *not* load the entire graph into your Python driver program."
   ]
  },
  {
   "cell_type": "code",
   "execution_count": 579,
   "metadata": {},
   "outputs": [],
   "source": [
    "def num_nodes_edges():\n",
    "    \"\"\"Returns a tuple (num_nodes, num_edges)\"\"\"\n",
    "    #### Your code for Question 1.1 should go here\n",
    "    #read graph\n",
    "    graph = sc.textFile(\"p2p-Gnutella08-adj.txt\").map(lambda line:line.split(\"\\t\"))\n",
    "    num_nodes = graph.count()#count total nodes\n",
    "    num_edges = graph.map(lambda line:len(line)-1).reduce(lambda a,b:a+b)#count total edges by counting total length of each line\n",
    "    return (num_nodes,num_edges)\n",
    "    \n",
    "    \n",
    "    \n",
    "def out_counts():\n",
    "    \"\"\"Returns a dictionary where the keys are the outdegrees, and the \n",
    "    values are the number of nodes of the corresponding outdegree \"\"\"\n",
    "    #### Your code for Question 1.2 should go here\n",
    "    graph = sc.textFile(\"p2p-Gnutella08-adj.txt\").map(lambda line:line.split(\"\\t\"))#read graph\n",
    "    #create key value pairs of the lenght of each adjacency list and the corresponding node and reduce by key\n",
    "    out_list = graph.map(lambda line:(len(line[1:]),line[0])).groupByKey().map(lambda line:(line[0],len(list(line[1]))))\n",
    "    out_list = out_list.sortByKey().collectAsMap()\n",
    "    return out_list\n",
    "    \n",
    "\n",
    "\n",
    "def in_counts():\n",
    "    \"\"\"Returns a dictionary where the keys are the indegrees, and the \n",
    "    values are the number of nodes of the corresponding indegree \"\"\"\n",
    "    #### Your code for Question 1.3 should go here\n",
    "    graph = sc.textFile(\"p2p-Gnutella08-adj.txt\").map(lambda line:line.split(\"\\t\"))\n",
    "    #count how may times each node appears inside the adjacency list, which gives the indegree of each node\n",
    "    in_temp = graph.flatMap(lambda line:line[1:]).map(lambda x:(x,1)).reduceByKey(lambda a,b:a+b).map(lambda line:(line[1],line[0]))\n",
    "    #special case for nodes with zero in-degree\n",
    "    check_zeros = in_temp.map(lambda line:line[1]).collect()\n",
    "    in_list = in_temp.groupByKey().map(lambda line:(line[0],len(list(line[1]))))\n",
    "    in_list = in_list.sortByKey().collectAsMap()\n",
    "    #count nodes which are not present inside the adjacency lists and add to dictionary\n",
    "    zeros = graph.map(lambda line:(1) if line[0] not in check_zeros else 0).reduce(lambda a,b:a+b)\n",
    "    in_list[0]=zeros\n",
    "    in_list = dict(sorted(in_list.items(), key=lambda item:item[0]))\n",
    "    return in_list\n",
    "\n",
    "\n"
   ]
  },
  {
   "cell_type": "markdown",
   "metadata": {},
   "source": [
    "---\n",
    "Your main objective for this assignment is to perform *single source personalized page rank* over the Gnutella graph.  To get started, you should make sure that you have a clear understanding of ordinary (i.e., non-personalized) page rank.  Read the description of page rank in Section 5.3 of [the course textbook](http://mapreduce.cc/).   Personalized page rank is like ordinary page rank except:\n",
    "- One node in the graph is designated as the *source* node. Personalized page rank is performed with respect to that source node.\n",
    "- Personalized page rank is initialized by assigning all probability mass to the source node, and none to the other nodes. In contrast, ordinary page rank is initialized by giving all nodes the same probability mass.\n",
    "- Whenever personalized page rank makes a random jump, it jumps back to the source node. In contrast, ordinary page rank may jump to any node.\n",
    "- In personalized page rank, all probability mass lost dangling nodes is put back into the source nodes.  In ordinary page rank, lost mass is distributed evenly over all nodes.\n",
    "\n",
    "#### Question 2  (10/24 marks):\n",
    "\n",
    "Your task is to write a Spark program to perform personalized page rank over the Gnutella graph for a specified number of iterations, and of course a specific node. The function you will implement takes three input values:\n",
    "- source node id (a positive integer)\n",
    "- iteration count (a positive integer)\n",
    "- random jump factor value (a float between 0 and 1)\n",
    "\n",
    "The function should perform personalized page rank, with respect to the specified source node, over the Gnutella graph, for the specified number of iterations, using Spark.\n",
    "The output of your function should be a list of the 10 nodes with the highest personalized page rank with respect to the given source. For each of the 10 nodes, return the node's id and page rank value as a tuple. The list returned by the function should therefore look something like this: `[(node_id_1, highest_pagerank_value), ..., (node_id_10, 10th_highest_pagerank_value)]`"
   ]
  },
  {
   "cell_type": "code",
   "execution_count": 583,
   "metadata": {},
   "outputs": [],
   "source": [
    "def personalized_page_rank(source_node_id, num_iterations, jump_factor):\n",
    "    \"\"\"Returns a list of the 10 nodes with the highest page rank value along with their value, as tuples\n",
    "    [(node_id_1, highest_pagerank_value), ..., (node_id_10, 10th_highest_pagerank_value)]\"\"\"\n",
    "    # your solution to Question 2 here\n",
    "    graph = sc.textFile(\"p2p-Gnutella08-adj.txt\").map(lambda line:line.split(\"\\t\"))#read graph\n",
    "    #store in cache to use it faster multiple times\n",
    "    graph.cache()\n",
    "    total_nodes = graph.count()\n",
    "    #initialize source node with rank=1 and rest with rank=0 and create dictionary for 'node:pagerank'\n",
    "    ppr_values_rdd = graph.map(lambda line:(line[0],1.0) if line[0]==str(source_node_id) else (line[0],0.0))\n",
    "    ppr_values_dict = ppr_values_rdd.collectAsMap()\n",
    "    ppr_values_rdd.cache()\n",
    "    #keep track of all dangling nodes\n",
    "    dangling_nodes = graph.filter(lambda line:len(line)==1)\n",
    "    dangling_nodes.cache()\n",
    "    for i in range(num_iterations):\n",
    "        #calculate lost mass from all dangling nodes\n",
    "        lost_mass = dangling_nodes.map(lambda line:ppr_values_dict[line[0]]).reduce(lambda a,b:a+b)\n",
    "        #calculate the sum of ppr values from different nodes arriving at a particular node\n",
    "        P = graph.map(lambda line:(line[0],line[1:])).filter(lambda line:len(line[1])!=0).flatMap(lambda line:[(i,(ppr_values_dict[line[0]]/len(line[1]))) for i in line[1]]).reduceByKey(lambda a,b:a+b).collectAsMap()\n",
    "        ppr_values_rdd = ppr_values_rdd.map(lambda line:(line[0],P[line[0]]) if line[0] in P.keys() else (line[0],line[1]))\n",
    "        #Calculate final PPR of all nodes by puting all lost mass and 'jumping' in source node\n",
    "        ppr_values_dict = ppr_values_rdd.map(lambda line:(line[0],(line[1]+lost_mass)*(1-jump_factor)+(jump_factor)) if line[0]==str(source_node_id) else (line[0],(1-jump_factor)*line[1])).collectAsMap()\n",
    "    #Sort values and pick top 10\n",
    "    ppr_values_dict = sorted(ppr_values_dict.items(), key=lambda item:item[1],reverse=True)\n",
    "    ppr_values_dict = [(int(line[0]),line[1]) for line in ppr_values_dict]\n",
    "    return (ppr_values_dict[0:10])\n"
   ]
  },
  {
   "cell_type": "markdown",
   "metadata": {},
   "source": [
    "---\n",
    "#### Question 3  (4/24 marks):\n",
    "\n",
    "For the previous question, you implemented personalized page rank that ran for a specified number of iterations.  However, it is also common to write iterative algorithms that run until some specified termination condition is reached.\n",
    "For example, for page rank, suppose the $p_i(x)$ represents the probability mass assigned to node $x$ after the $i$th iteration of the algorithm.  ($p_0(x)$ is the initial probability mass of node $x$.)   We define the change of $x$'s probability mass on the $i$th iteration as $\\lvert p_i(x)-p_{i-1}(x) \\rvert$.   Then, we can iterate personalized page rank until the maximum (over all nodes) change is less than a specified threshold, i.e, until all nodes' page ranks have converged.\n",
    "\n",
    "For this question, modify your personalized page rank implementation from Question 2 so that it iterates until the \n",
    "maximum node change is less than $\\frac{0.5}{N}$, where $N$ represents the number of nodes in the graph.\n",
    "This version of the function should take only two inputs: the source node id and the random jump factor.\n",
    "\n",
    "If you were unable to get personalized page rank working in Question 2, replace the code cell below with a text (Markdown) cell, and briefly describe how you *would* have modified your program to incorporate a termination condition based on maximum node change, for partial credit. "
   ]
  },
  {
   "cell_type": "code",
   "execution_count": 585,
   "metadata": {},
   "outputs": [],
   "source": [
    "def personalized_page_rank_stopping_criterion(source_node_id, jump_factor):\n",
    "    \"\"\"Returns a list of the 10 nodes with the highest page rank value along with their value, as tuples\n",
    "    [(node_id_1, highest_pagerank_value), ..., (node_id_10, 10th_highest_pagerank_value)]\"\"\"\n",
    "    # your solution to Question 3 here\n",
    "    graph = sc.textFile(\"p2p-Gnutella08-adj.txt\").map(lambda line:line.split(\"\\t\"))\n",
    "    #store in cache to use it faster multiple times\n",
    "    graph.cache()\n",
    "    total_nodes = graph.count()\n",
    "    #initialize source node with rank=1 and rest with rank=0 and create dictionary for 'node:pagerank'\n",
    "    ppr_values_rdd = graph.map(lambda line:(line[0],1.0) if line[0]==str(source_node_id) else (line[0],0.0))\n",
    "    ppr_values_dict = ppr_values_rdd.collectAsMap()\n",
    "    ppr_values_rdd.cache()\n",
    "    #keep track of all dangling nodes\n",
    "    dangling_nodes = graph.filter(lambda line:len(line)==1)\n",
    "    dangling_nodes.cache()\n",
    "    while(True):\n",
    "        #Keep track of previous iteration's PPR value\n",
    "        ppr_values_dict_before = sorted(ppr_values_dict.items(), key=lambda item:item[1],reverse=True)\n",
    "        #calculate lost mass from all dangling nodes\n",
    "        lost_mass = dangling_nodes.map(lambda line:ppr_values_dict[line[0]]).reduce(lambda a,b:a+b)\n",
    "        #calculate the sum of ppr values from different nodes arriving at a particular node\n",
    "        P = graph.map(lambda line:(line[0],line[1:])).filter(lambda line:len(line[1])!=0).flatMap(lambda line:[(i,(ppr_values_dict[line[0]]/len(line[1]))) for i in line[1]]).reduceByKey(lambda a,b:a+b).collectAsMap()\n",
    "        ppr_values_rdd = ppr_values_rdd.map(lambda line:(line[0],P[line[0]]) if line[0] in P.keys() else (line[0],line[1]))\n",
    "        ppr_values_dict = ppr_values_rdd.map(lambda line:(line[0],(line[1]+lost_mass)*(1-jump_factor)+(jump_factor)) if line[0]==str(source_node_id) else (line[0],(1-jump_factor)*line[1])).collectAsMap()\n",
    "        #Keeping track of PPR value of current iteration\n",
    "        ppr_values_dict_after = sorted(ppr_values_dict.items(), key=lambda item:item[1],reverse=True)\n",
    "        #Take the difference of current PPR value and previous PPR value\n",
    "        max_diff = max([abs(ppr_values_dict_after[i][1]-ppr_values_dict_before[i][1]) for i in range(len(ppr_values_dict))])\n",
    "        #Check for threshold and stop if it is satisfied\n",
    "        if(max_diff<0.5/total_nodes):\n",
    "            break\n",
    "    \n",
    "    #Sort and pick top 10\n",
    "    ppr_values_dict = sorted(ppr_values_dict.items(), key=lambda item:item[1],reverse=True)\n",
    "    ppr_values_dict = [(int(line[0]),line[1]) for line in ppr_values_dict]\n",
    "    return ppr_values_dict[0:10]\n",
    "\n"
   ]
  },
  {
   "cell_type": "markdown",
   "metadata": {},
   "source": [
    "---\n",
    "#### Question 4  (4/24 marks):\n",
    "\n",
    "Spark provides the ability to *cache* RDDs.   This is useful when an RDD will be used more than once.   Instead of computing the same RDD multiple times, it can be computed once, cached, and then re-used from the cache.   Read about caching in the Spark textbook, or in the [persistence section of the Spark RDD programming guide](https://spark.apache.org/docs/latest/rdd-programming-guide.html#rdd-persistence).   Caching can be particularly effective for iterative Spark applications, like those you are writing for this assignment.\n",
    "\n",
    "For this question, go back to the code that you wrote to answer Question 3, and add caching.   (Caching will not affect the functionality of your code, i.e., what it computes.   It should only affect performance.)   Don't worry about different persistence levels.   Just use `cache()`, which caches RDDs at the default persistence level.\n",
    "\n",
    "In addition to adding `cache()` calls in your code, use the text cell below to briefly explain how you decided which RDDs to cache. \n",
    "\n",
    "If you were not able to finish Question 3, add caching annotations to your solution for Question 2 instead."
   ]
  },
  {
   "cell_type": "markdown",
   "metadata": {},
   "source": [
    "---\n",
    "#### Your answer to Question 4:\n",
    "\n",
    "I used ````cache()```` for those RDDs which were being used multiple times i.e those inside the for-loop and for the <b>graph</b> RDD as well, as if we do not do it, the RDD will be calculated from scratch each time. Hence since the RDDs inside the for-loop have been ````cache()````'d since this is an iterative algorithm, and the same RDD's are being recalculated on each run, I have used ````cache()```` for such RDDs.\n",
    "\n",
    "\n"
   ]
  },
  {
   "cell_type": "markdown",
   "metadata": {},
   "source": [
    "---\n",
    "Don't forget to save your workbook!   When you are finished and you are ready to submit your assignment, download your notebook file (.ipynb) from the hub to your machine, and then follow the submission instructions in the assignment."
   ]
  }
 ],
 "metadata": {
  "kernelspec": {
   "display_name": "Python 3",
   "language": "python",
   "name": "python3"
  },
  "language_info": {
   "codemirror_mode": {
    "name": "ipython",
    "version": 3
   },
   "file_extension": ".py",
   "mimetype": "text/x-python",
   "name": "python",
   "nbconvert_exporter": "python",
   "pygments_lexer": "ipython3",
   "version": "3.6.8"
  }
 },
 "nbformat": 4,
 "nbformat_minor": 2
}
